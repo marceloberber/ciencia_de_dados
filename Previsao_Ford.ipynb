{
 "cells": [
  {
   "cell_type": "markdown",
   "metadata": {},
   "source": [
    "[![Binder](https://mybinder.org/badge_logo.svg)](https://mybinder.org/v2/gh/marceloberber/ciencia_de_dados/694caa310d59cf466fe59ba16d0e35f26664cf13?urlpath=lab%2Ftree%2FPrevisao_Ford.ipynb)"
   ]
  },
  {
   "cell_type": "markdown",
   "metadata": {},
   "source": [
    "# Importando bibliotecas"
   ]
  },
  {
   "cell_type": "code",
   "execution_count": 9,
   "metadata": {
    "id": "W9TDjygBRzNX"
   },
   "outputs": [],
   "source": [
    "# Importando bibliotecas\n",
    "import pandas as pd                 # Pandas\n",
    "import matplotlib.pyplot as plt     # Matplotlib\n",
    "import seaborn as sns               # Seaborn"
   ]
  },
  {
   "cell_type": "markdown",
   "metadata": {},
   "source": [
    "# Resumo geral sobre as bibliotecas utilizadas no projeto\n",
    "\n",
    "\n",
    "\n",
    "* <b>Pandas:</b>\n",
    "A biblioteca Pandas é uma biblioteca Python para análise de dados. Seu nome é derivado do termo “dados de painel” (panel data), um termo econométrico utilizado para se referir a conjuntos de dados estruturados multidimensionais. Ela possui código aberto e uso gratuito (sob uma licença BSD).\n",
    "\n",
    "* <b>Matplotlib:</b>\n",
    "A Python Matplotlib é uma biblioteca da linguagem de programação Python, utilizada para visualização de dados e plotagem gráfica. Ela é utilizada pela extensão de matemática numérica do Python, a NumPy, e pela biblioteca SciPy. Seu objetivo é ser uma alternativa viável de código aberto e plataforma cruzada ao MATLAB.\n",
    "\n",
    "* <b>Seaborn:</b>\n",
    "A biblioteca Seaborn atua em cima do matplotlib e ajuda a melhorar o visual dos gráficos, dando uma aparência mais bem acabada. Seguem alguns exemplos de como usar o Seaborn na geração de gráficos.\n",
    "\n",
    "* <b>Scikit-Learn:</b>\n",
    "O Scikit-Learn é uma das bibliotecas de Machine Learning mais conhecidas e utilizadas do Python, dentre as diversas existentes, elaborada em código aberto e desenvolvida para suportar e possibilitar o treino de diversas técnicas de estatística e Machine Learning, para aprendizagem supervisionada e não supervisionada."
   ]
  },
  {
   "cell_type": "markdown",
   "metadata": {},
   "source": [
    "# Lendo dataset"
   ]
  },
  {
   "cell_type": "code",
   "execution_count": 10,
   "metadata": {},
   "outputs": [],
   "source": [
    "ford = pd.read_csv('data/ford.csv', encoding='ISO-8859-1')"
   ]
  },
  {
   "cell_type": "code",
   "execution_count": 11,
   "metadata": {
    "colab": {
     "base_uri": "https://localhost:8080/",
     "height": 206
    },
    "id": "yYS3fN7USHQl",
    "outputId": "1cf63f38-e7ff-47f3-9aaa-b2aa6b3ad632"
   },
   "outputs": [
    {
     "data": {
      "text/html": [
       "<div>\n",
       "<style scoped>\n",
       "    .dataframe tbody tr th:only-of-type {\n",
       "        vertical-align: middle;\n",
       "    }\n",
       "\n",
       "    .dataframe tbody tr th {\n",
       "        vertical-align: top;\n",
       "    }\n",
       "\n",
       "    .dataframe thead th {\n",
       "        text-align: right;\n",
       "    }\n",
       "</style>\n",
       "<table border=\"1\" class=\"dataframe\">\n",
       "  <thead>\n",
       "    <tr style=\"text-align: right;\">\n",
       "      <th></th>\n",
       "      <th>model</th>\n",
       "      <th>year</th>\n",
       "      <th>price</th>\n",
       "      <th>transmission</th>\n",
       "      <th>mileage</th>\n",
       "      <th>fuelType</th>\n",
       "      <th>tax</th>\n",
       "      <th>mpg</th>\n",
       "      <th>engineSize</th>\n",
       "    </tr>\n",
       "  </thead>\n",
       "  <tbody>\n",
       "    <tr>\n",
       "      <th>0</th>\n",
       "      <td>Fiesta</td>\n",
       "      <td>2017</td>\n",
       "      <td>12000</td>\n",
       "      <td>Automatic</td>\n",
       "      <td>15944</td>\n",
       "      <td>Petrol</td>\n",
       "      <td>150</td>\n",
       "      <td>57.7</td>\n",
       "      <td>1.0</td>\n",
       "    </tr>\n",
       "    <tr>\n",
       "      <th>1</th>\n",
       "      <td>Focus</td>\n",
       "      <td>2018</td>\n",
       "      <td>14000</td>\n",
       "      <td>Manual</td>\n",
       "      <td>9083</td>\n",
       "      <td>Petrol</td>\n",
       "      <td>150</td>\n",
       "      <td>57.7</td>\n",
       "      <td>1.0</td>\n",
       "    </tr>\n",
       "    <tr>\n",
       "      <th>2</th>\n",
       "      <td>Focus</td>\n",
       "      <td>2017</td>\n",
       "      <td>13000</td>\n",
       "      <td>Manual</td>\n",
       "      <td>12456</td>\n",
       "      <td>Petrol</td>\n",
       "      <td>150</td>\n",
       "      <td>57.7</td>\n",
       "      <td>1.0</td>\n",
       "    </tr>\n",
       "    <tr>\n",
       "      <th>3</th>\n",
       "      <td>Fiesta</td>\n",
       "      <td>2019</td>\n",
       "      <td>17500</td>\n",
       "      <td>Manual</td>\n",
       "      <td>10460</td>\n",
       "      <td>Petrol</td>\n",
       "      <td>145</td>\n",
       "      <td>40.3</td>\n",
       "      <td>1.5</td>\n",
       "    </tr>\n",
       "    <tr>\n",
       "      <th>4</th>\n",
       "      <td>Fiesta</td>\n",
       "      <td>2019</td>\n",
       "      <td>16500</td>\n",
       "      <td>Automatic</td>\n",
       "      <td>1482</td>\n",
       "      <td>Petrol</td>\n",
       "      <td>145</td>\n",
       "      <td>48.7</td>\n",
       "      <td>1.0</td>\n",
       "    </tr>\n",
       "  </tbody>\n",
       "</table>\n",
       "</div>"
      ],
      "text/plain": [
       "     model  year  price transmission  mileage fuelType  tax   mpg  engineSize\n",
       "0   Fiesta  2017  12000    Automatic    15944   Petrol  150  57.7         1.0\n",
       "1    Focus  2018  14000       Manual     9083   Petrol  150  57.7         1.0\n",
       "2    Focus  2017  13000       Manual    12456   Petrol  150  57.7         1.0\n",
       "3   Fiesta  2019  17500       Manual    10460   Petrol  145  40.3         1.5\n",
       "4   Fiesta  2019  16500    Automatic     1482   Petrol  145  48.7         1.0"
      ]
     },
     "execution_count": 11,
     "metadata": {},
     "output_type": "execute_result"
    }
   ],
   "source": [
    "ford.head()"
   ]
  },
  {
   "cell_type": "markdown",
   "metadata": {},
   "source": [
    "* Valores do Dataset"
   ]
  },
  {
   "cell_type": "markdown",
   "metadata": {},
   "source": [
    "# Tipo de combustível"
   ]
  },
  {
   "cell_type": "code",
   "execution_count": 12,
   "metadata": {
    "colab": {
     "base_uri": "https://localhost:8080/"
    },
    "id": "o7jG0SYxa5wK",
    "outputId": "48b7a698-7308-49e1-84a9-a98e523f15d3"
   },
   "outputs": [
    {
     "data": {
      "text/plain": [
       "Petrol      12179\n",
       "Diesel       5762\n",
       "Hybrid         22\n",
       "Electric        2\n",
       "Other           1\n",
       "Name: fuelType, dtype: int64"
      ]
     },
     "execution_count": 12,
     "metadata": {},
     "output_type": "execute_result"
    }
   ],
   "source": [
    "# Tipo de combustivel\n",
    "fuelType = ford['fuelType']\n",
    "fuelType.value_counts()"
   ]
  },
  {
   "cell_type": "code",
   "execution_count": 13,
   "metadata": {
    "colab": {
     "base_uri": "https://localhost:8080/",
     "height": 389
    },
    "id": "IkdvsG92SHhQ",
    "outputId": "88034f59-37d0-4d0d-8306-71ecc028e7e9"
   },
   "outputs": [
    {
     "data": {
      "image/png": "[encoded data removed]",
      "text/plain": [
       "<Figure size 432x432 with 1 Axes>"
      ]
     },
     "metadata": {
      "needs_background": "light"
     },
     "output_type": "display_data"
    }
   ],
   "source": [
    "# Grafico - Tipo de combustivel\n",
    "ford['fuelType'].value_counts().plot(xlabel='Tipo de combustível', \n",
    "                                     ylabel='Quantidade de veículos',\n",
    "                                     label=\"Quantidade de veículos para cada tipo de combustível\" ,\n",
    "                                     figsize=(6, 6), color='red', fontsize=10)\n",
    "plt.legend(fontsize=10)\n",
    "plt.show()"
   ]
  },
  {
   "cell_type": "markdown",
   "metadata": {},
   "source": [
    "# Comparando ano x preço"
   ]
  },
  {
   "cell_type": "code",
   "execution_count": 14,
   "metadata": {
    "colab": {
     "base_uri": "https://localhost:8080/",
     "height": 295
    },
    "id": "pT8Dzc2kbWSC",
    "outputId": "45c776fb-70f9-4292-dc15-33b1ac92debc"
   },
   "outputs": [
    {
     "data": {
      "image/png": "[encoded data removed]",
      "text/plain": [
       "<Figure size 432x288 with 1 Axes>"
      ]
     },
     "metadata": {
      "needs_background": "light"
     },
     "output_type": "display_data"
    }
   ],
   "source": [
    "# Ano x Preço\n",
    "ford.plot(x='price',\n",
    "          y='year',\n",
    "          kind='scatter',\n",
    "          color='crimson')\n",
    "plt.xlabel('Preço $')\n",
    "plt.ylabel('Ano')\n",
    "plt.title('Relação entre preço e ano do veiculo')\n",
    "plt.show()"
   ]
  },
  {
   "cell_type": "markdown",
   "metadata": {},
   "source": [
    "# Tipo de câmbio (transmissão)"
   ]
  },
  {
   "cell_type": "code",
   "execution_count": 15,
   "metadata": {
    "colab": {
     "base_uri": "https://localhost:8080/",
     "height": 400
    },
    "id": "NshR86IDRTeP",
    "outputId": "2d1da0ad-e172-4e20-f051-e3b4dfe266fb"
   },
   "outputs": [
    {
     "data": {
      "image/png": "[encoded data removed]",
      "text/plain": [
       "<Figure size 475.2x468 with 1 Axes>"
      ]
     },
     "metadata": {},
     "output_type": "display_data"
    }
   ],
   "source": [
    "# Grafico - Tipo de Cambio\n",
    "plt.subplots(figsize=(6.6, 6.5))\n",
    "z = ford['transmission'].value_counts()\n",
    "plt.pie(z, \n",
    "        labels = z.index, \n",
    "        autopct='%1.i%%', \n",
    "        colors=['slategray', 'aliceblue', 'crimson'])\n",
    "plt.title('Tipo de câmbio')\n",
    "plt.legend()\n",
    "plt.show()"
   ]
  },
  {
   "cell_type": "markdown",
   "metadata": {
    "id": "mgATHalhMGZe"
   },
   "source": [
    "MPG é a abreviação para \"milhas por galão\", equivalente ao termo \"KM por litro\" usado para quantificar a quantidade de combustivel consumida pelo veiculo."
   ]
  },
  {
   "cell_type": "markdown",
   "metadata": {},
   "source": [
    "# Autonomia e valores de comercialização"
   ]
  },
  {
   "cell_type": "code",
   "execution_count": 16,
   "metadata": {
    "colab": {
     "base_uri": "https://localhost:8080/",
     "height": 295
    },
    "id": "8nM25h-8Qggo",
    "outputId": "5bbe2fd5-41cd-46a3-e904-c6d9c13bec70"
   },
   "outputs": [
    {
     "data": {
      "image/png": "[encoded data removed]",
      "text/plain": [
       "<Figure size 432x288 with 1 Axes>"
      ]
     },
     "metadata": {
      "needs_background": "light"
     },
     "output_type": "display_data"
    }
   ],
   "source": [
    "# Autonomia — MPG (Milhas por galão)\n",
    "ford.plot(x='price', \n",
    "          y='mpg', \n",
    "          kind='scatter', \n",
    "          color='crimson')\n",
    "plt.xlabel('Preço $')\n",
    "plt.ylabel('MPG')\n",
    "plt.title('Relação entre o preço e o MPG do veiculo')\n",
    "plt.show()"
   ]
  },
  {
   "cell_type": "code",
   "execution_count": 17,
   "metadata": {
    "colab": {
     "base_uri": "https://localhost:8080/",
     "height": 295
    },
    "id": "8Kf9aLWqI4vo",
    "outputId": "f451879c-4d45-4ab4-bb5d-6124c3899787"
   },
   "outputs": [
    {
     "data": {
      "image/png": "[encoded data removed]",
      "text/plain": [
       "<Figure size 432x288 with 1 Axes>"
      ]
     },
     "metadata": {
      "needs_background": "light"
     },
     "output_type": "display_data"
    }
   ],
   "source": [
    "# Valores x comercialização\n",
    "ford['price'].hist(color='slategray')\n",
    "plt.xlabel('Preço em $')\n",
    "plt.ylabel('Quantidade')\n",
    "plt.title('Distribuião do preço dos veiculos')\n",
    "plt.show()"
   ]
  },
  {
   "cell_type": "code",
   "execution_count": 18,
   "metadata": {
    "colab": {
     "base_uri": "https://localhost:8080/",
     "height": 295
    },
    "id": "Ms9rW_KAca9e",
    "outputId": "1ae59182-efb7-4f00-efc6-164cb3cdfd26"
   },
   "outputs": [
    {
     "data": {
      "image/png": "[encoded data removed]",
      "text/plain": [
       "<Figure size 432x288 with 1 Axes>"
      ]
     },
     "metadata": {
      "needs_background": "light"
     },
     "output_type": "display_data"
    }
   ],
   "source": [
    "# Preço x milhas rodadas\n",
    "ford.plot(x='price',\n",
    "          y='mileage',\n",
    "          kind='scatter',\n",
    "          color='crimson')\n",
    "plt.xlabel('Preço em $')\n",
    "plt.ylabel('Rodagem em Milhas')\n",
    "plt.title('Relação entre a rodagem e o preço do veiculo')\n",
    "plt.show()"
   ]
  },
  {
   "cell_type": "code",
   "execution_count": 19,
   "metadata": {
    "colab": {
     "base_uri": "https://localhost:8080/",
     "height": 295
    },
    "id": "3sxF0Bq8X1cN",
    "outputId": "d18850d1-92a7-4f58-df8e-fe25e01a22c9"
   },
   "outputs": [
    {
     "data": {
      "image/png": "[encoded data removed]",
      "text/plain": [
       "<Figure size 432x288 with 1 Axes>"
      ]
     },
     "metadata": {
      "needs_background": "light"
     },
     "output_type": "display_data"
    }
   ],
   "source": [
    "# Potencia x tipo de combustivel\n",
    "ford.plot(x='engineSize',\n",
    "          y='fuelType',\n",
    "          kind='scatter',\n",
    "          color='mediumblue')\n",
    "plt.xlabel('Potência do Veiculo')\n",
    "plt.ylabel('Combustivel (Inglês)')\n",
    "plt.title('Relação entre potência e tipo de combustivel')\n",
    "plt.show()"
   ]
  },
  {
   "cell_type": "code",
   "execution_count": 20,
   "metadata": {
    "colab": {
     "base_uri": "https://localhost:8080/"
    },
    "id": "CijLwLN4W6de",
    "outputId": "b0586686-acff-4c67-8ae7-44a4cd23b5b4"
   },
   "outputs": [
    {
     "data": {
      "text/plain": [
       "1.0    7765\n",
       "1.5    3418\n",
       "2.0    3311\n",
       "1.2    1626\n",
       "1.6     923\n",
       "1.1     559\n",
       "1.4     112\n",
       "2.3      80\n",
       "0.0      51\n",
       "5.0      45\n",
       "1.8      35\n",
       "2.2      13\n",
       "2.5      13\n",
       "1.3      13\n",
       "3.2       1\n",
       "1.7       1\n",
       "Name: engineSize, dtype: int64"
      ]
     },
     "execution_count": 20,
     "metadata": {},
     "output_type": "execute_result"
    }
   ],
   "source": [
    "# Quantidade por tipo de motor \n",
    "ford['engineSize'].value_counts()"
   ]
  },
  {
   "cell_type": "code",
   "execution_count": 21,
   "metadata": {
    "colab": {
     "base_uri": "https://localhost:8080/",
     "height": 693
    },
    "id": "H0IjTJFpAMGM",
    "outputId": "e011da16-1979-4fca-c780-a11273622015"
   },
   "outputs": [
    {
     "name": "stderr",
     "output_type": "stream",
     "text": [
      "C:\\Users\\User\\anaconda3\\lib\\site-packages\\seaborn\\_decorators.py:36: FutureWarning: Pass the following variable as a keyword arg: x. From version 0.12, the only valid positional argument will be `data`, and passing other arguments without an explicit keyword will result in an error or misinterpretation.\n",
      "  warnings.warn(\n"
     ]
    },
    {
     "data": {
      "text/plain": [
       "Text(0.5, 0, 'Ano de fabricação')"
      ]
     },
     "execution_count": 21,
     "metadata": {},
     "output_type": "execute_result"
    },
    {
     "data": {
      "image/png": "[encoded data removed]",
      "text/plain": [
       "<Figure size 864x720 with 1 Axes>"
      ]
     },
     "metadata": {
      "needs_background": "light"
     },
     "output_type": "display_data"
    }
   ],
   "source": [
    "# Quantidade x ano de fabricação\n",
    "plt.subplots(figsize=(12, 10))\n",
    "z = sns.countplot(ford['year'], color='mediumblue')\n",
    "z.set_title('Distribuição dos veiculos por ano de fabricação')\n",
    "z.set_ylabel('Quantidade')\n",
    "z.set_xlabel('Ano de fabricação')\n"
   ]
  },
  {
   "cell_type": "markdown",
   "metadata": {
    "id": "TxCAmBMQKJ9g"
   },
   "source": [
    "O gráfico a seguir demonstra a distribuição dos veiculos por modelo, e logo abaixo as quantidades exatas de cada um deles"
   ]
  },
  {
   "cell_type": "code",
   "execution_count": 22,
   "metadata": {
    "colab": {
     "base_uri": "https://localhost:8080/",
     "height": 787
    },
    "id": "MxanV5fgB5QB",
    "outputId": "b01d7c43-b965-4dd4-f2d5-1aa66a41b689"
   },
   "outputs": [
    {
     "name": "stderr",
     "output_type": "stream",
     "text": [
      "C:\\Users\\User\\anaconda3\\lib\\site-packages\\seaborn\\_decorators.py:36: FutureWarning: Pass the following variable as a keyword arg: x. From version 0.12, the only valid positional argument will be `data`, and passing other arguments without an explicit keyword will result in an error or misinterpretation.\n",
      "  warnings.warn(\n"
     ]
    },
    {
     "data": {
      "image/png": "[encoded data removed]",
      "text/plain": [
       "<Figure size 864x720 with 1 Axes>"
      ]
     },
     "metadata": {
      "needs_background": "light"
     },
     "output_type": "display_data"
    }
   ],
   "source": [
    "# Quantidade x modelo\n",
    "plt.subplots(figsize=(12, 10))\n",
    "z = sns.countplot(ford['model'], color='mediumblue')\n",
    "z.set_title('Quantidade por modelo')\n",
    "z.set_xlabel('Modelo')\n",
    "z.set_ylabel('Quantidade')\n",
    "_ = plt.setp(z.get_xticklabels(), rotation=90)\n",
    "#z.tick_params(labelrotation=90)"
   ]
  },
  {
   "cell_type": "code",
   "execution_count": 23,
   "metadata": {
    "colab": {
     "base_uri": "https://localhost:8080/"
    },
    "id": "yYtO_35-SH8m",
    "outputId": "c9dcaedc-95e6-42b7-e5c7-f4af9ebf750f"
   },
   "outputs": [
    {
     "data": {
      "text/plain": [
       " Fiesta                   6557\n",
       " Focus                    4588\n",
       " Kuga                     2225\n",
       " EcoSport                 1143\n",
       " C-MAX                     543\n",
       " Ka+                       531\n",
       " Mondeo                    526\n",
       " B-MAX                     355\n",
       " S-MAX                     296\n",
       " Grand C-MAX               247\n",
       " Galaxy                    228\n",
       " Edge                      208\n",
       " KA                        199\n",
       " Puma                       80\n",
       " Tourneo Custom             69\n",
       " Grand Tourneo Connect      59\n",
       " Mustang                    57\n",
       " Tourneo Connect            33\n",
       " Fusion                     16\n",
       " Streetka                    2\n",
       " Ranger                      1\n",
       " Escort                      1\n",
       " Transit Tourneo             1\n",
       "Focus                        1\n",
       "Name: model, dtype: int64"
      ]
     },
     "execution_count": 23,
     "metadata": {},
     "output_type": "execute_result"
    }
   ],
   "source": [
    "# Quantidade por modelo — lista\n",
    "ford['model'].value_counts()"
   ]
  },
  {
   "cell_type": "code",
   "execution_count": 24,
   "metadata": {
    "colab": {
     "base_uri": "https://localhost:8080/",
     "height": 749
    },
    "id": "mgQBTAZ-_yRS",
    "outputId": "3d65721c-7027-46ef-a17d-55cde843ed7e"
   },
   "outputs": [
    {
     "data": {
      "text/plain": [
       "Text(0, 0.5, 'MPG')"
      ]
     },
     "execution_count": 24,
     "metadata": {},
     "output_type": "execute_result"
    },
    {
     "data": {
      "image/png": "[encoded data removed]",
      "text/plain": [
       "<Figure size 864x720 with 1 Axes>"
      ]
     },
     "metadata": {
      "needs_background": "light"
     },
     "output_type": "display_data"
    }
   ],
   "source": [
    "# Relação Modelo x MPG\n",
    "plt.subplots(figsize=(12,10))\n",
    "z = sns.stripplot(x='model', y='mpg', data=ford, color='crimson')\n",
    "_ = plt.setp(z.get_xticklabels(), rotation=90)\n",
    "z.set_title('Relação entre modelo e MPG')\n",
    "z.set_xlabel('Modelo')\n",
    "z.set_ylabel('MPG')\n"
   ]
  },
  {
   "cell_type": "code",
   "execution_count": 25,
   "metadata": {
    "colab": {
     "base_uri": "https://localhost:8080/",
     "height": 236
    },
    "id": "FSz-iWMywxlj",
    "outputId": "c27e9b1b-08c3-4013-84e9-043a8ded2208"
   },
   "outputs": [
    {
     "data": {
      "text/html": [
       "<div>\n",
       "<style scoped>\n",
       "    .dataframe tbody tr th:only-of-type {\n",
       "        vertical-align: middle;\n",
       "    }\n",
       "\n",
       "    .dataframe tbody tr th {\n",
       "        vertical-align: top;\n",
       "    }\n",
       "\n",
       "    .dataframe thead th {\n",
       "        text-align: right;\n",
       "    }\n",
       "</style>\n",
       "<table border=\"1\" class=\"dataframe\">\n",
       "  <thead>\n",
       "    <tr style=\"text-align: right;\">\n",
       "      <th></th>\n",
       "      <th>model</th>\n",
       "      <th>year</th>\n",
       "      <th>price</th>\n",
       "      <th>transmission</th>\n",
       "      <th>mileage</th>\n",
       "      <th>fuelType</th>\n",
       "      <th>tax</th>\n",
       "      <th>mpg</th>\n",
       "      <th>engineSize</th>\n",
       "      <th>B-MAX</th>\n",
       "      <th>...</th>\n",
       "      <th>Mondeo</th>\n",
       "      <th>Mustang</th>\n",
       "      <th>Puma</th>\n",
       "      <th>Ranger</th>\n",
       "      <th>S-MAX</th>\n",
       "      <th>Streetka</th>\n",
       "      <th>Tourneo Connect</th>\n",
       "      <th>Tourneo Custom</th>\n",
       "      <th>Transit Tourneo</th>\n",
       "      <th>Focus</th>\n",
       "    </tr>\n",
       "  </thead>\n",
       "  <tbody>\n",
       "    <tr>\n",
       "      <th>0</th>\n",
       "      <td>Fiesta</td>\n",
       "      <td>2017</td>\n",
       "      <td>12000</td>\n",
       "      <td>Automatic</td>\n",
       "      <td>15944</td>\n",
       "      <td>Petrol</td>\n",
       "      <td>150</td>\n",
       "      <td>57.7</td>\n",
       "      <td>1.0</td>\n",
       "      <td>0</td>\n",
       "      <td>...</td>\n",
       "      <td>0</td>\n",
       "      <td>0</td>\n",
       "      <td>0</td>\n",
       "      <td>0</td>\n",
       "      <td>0</td>\n",
       "      <td>0</td>\n",
       "      <td>0</td>\n",
       "      <td>0</td>\n",
       "      <td>0</td>\n",
       "      <td>0</td>\n",
       "    </tr>\n",
       "    <tr>\n",
       "      <th>1</th>\n",
       "      <td>Focus</td>\n",
       "      <td>2018</td>\n",
       "      <td>14000</td>\n",
       "      <td>Manual</td>\n",
       "      <td>9083</td>\n",
       "      <td>Petrol</td>\n",
       "      <td>150</td>\n",
       "      <td>57.7</td>\n",
       "      <td>1.0</td>\n",
       "      <td>0</td>\n",
       "      <td>...</td>\n",
       "      <td>0</td>\n",
       "      <td>0</td>\n",
       "      <td>0</td>\n",
       "      <td>0</td>\n",
       "      <td>0</td>\n",
       "      <td>0</td>\n",
       "      <td>0</td>\n",
       "      <td>0</td>\n",
       "      <td>0</td>\n",
       "      <td>0</td>\n",
       "    </tr>\n",
       "    <tr>\n",
       "      <th>2</th>\n",
       "      <td>Focus</td>\n",
       "      <td>2017</td>\n",
       "      <td>13000</td>\n",
       "      <td>Manual</td>\n",
       "      <td>12456</td>\n",
       "      <td>Petrol</td>\n",
       "      <td>150</td>\n",
       "      <td>57.7</td>\n",
       "      <td>1.0</td>\n",
       "      <td>0</td>\n",
       "      <td>...</td>\n",
       "      <td>0</td>\n",
       "      <td>0</td>\n",
       "      <td>0</td>\n",
       "      <td>0</td>\n",
       "      <td>0</td>\n",
       "      <td>0</td>\n",
       "      <td>0</td>\n",
       "      <td>0</td>\n",
       "      <td>0</td>\n",
       "      <td>0</td>\n",
       "    </tr>\n",
       "    <tr>\n",
       "      <th>3</th>\n",
       "      <td>Fiesta</td>\n",
       "      <td>2019</td>\n",
       "      <td>17500</td>\n",
       "      <td>Manual</td>\n",
       "      <td>10460</td>\n",
       "      <td>Petrol</td>\n",
       "      <td>145</td>\n",
       "      <td>40.3</td>\n",
       "      <td>1.5</td>\n",
       "      <td>0</td>\n",
       "      <td>...</td>\n",
       "      <td>0</td>\n",
       "      <td>0</td>\n",
       "      <td>0</td>\n",
       "      <td>0</td>\n",
       "      <td>0</td>\n",
       "      <td>0</td>\n",
       "      <td>0</td>\n",
       "      <td>0</td>\n",
       "      <td>0</td>\n",
       "      <td>0</td>\n",
       "    </tr>\n",
       "    <tr>\n",
       "      <th>4</th>\n",
       "      <td>Fiesta</td>\n",
       "      <td>2019</td>\n",
       "      <td>16500</td>\n",
       "      <td>Automatic</td>\n",
       "      <td>1482</td>\n",
       "      <td>Petrol</td>\n",
       "      <td>145</td>\n",
       "      <td>48.7</td>\n",
       "      <td>1.0</td>\n",
       "      <td>0</td>\n",
       "      <td>...</td>\n",
       "      <td>0</td>\n",
       "      <td>0</td>\n",
       "      <td>0</td>\n",
       "      <td>0</td>\n",
       "      <td>0</td>\n",
       "      <td>0</td>\n",
       "      <td>0</td>\n",
       "      <td>0</td>\n",
       "      <td>0</td>\n",
       "      <td>0</td>\n",
       "    </tr>\n",
       "  </tbody>\n",
       "</table>\n",
       "<p>5 rows × 33 columns</p>\n",
       "</div>"
      ],
      "text/plain": [
       "     model  year  price transmission  mileage fuelType  tax   mpg  engineSize  \\\n",
       "0   Fiesta  2017  12000    Automatic    15944   Petrol  150  57.7         1.0   \n",
       "1    Focus  2018  14000       Manual     9083   Petrol  150  57.7         1.0   \n",
       "2    Focus  2017  13000       Manual    12456   Petrol  150  57.7         1.0   \n",
       "3   Fiesta  2019  17500       Manual    10460   Petrol  145  40.3         1.5   \n",
       "4   Fiesta  2019  16500    Automatic     1482   Petrol  145  48.7         1.0   \n",
       "\n",
       "    B-MAX  ...   Mondeo   Mustang   Puma   Ranger   S-MAX   Streetka  \\\n",
       "0       0  ...        0         0      0        0       0          0   \n",
       "1       0  ...        0         0      0        0       0          0   \n",
       "2       0  ...        0         0      0        0       0          0   \n",
       "3       0  ...        0         0      0        0       0          0   \n",
       "4       0  ...        0         0      0        0       0          0   \n",
       "\n",
       "    Tourneo Connect   Tourneo Custom   Transit Tourneo  Focus  \n",
       "0                 0                0                 0      0  \n",
       "1                 0                0                 0      0  \n",
       "2                 0                0                 0      0  \n",
       "3                 0                0                 0      0  \n",
       "4                 0                0                 0      0  \n",
       "\n",
       "[5 rows x 33 columns]"
      ]
     },
     "execution_count": 25,
     "metadata": {},
     "output_type": "execute_result"
    }
   ],
   "source": [
    "# Convertendo a coluna model afim de usá-la como um dos parâmetros do algoritmo\n",
    "dummies = pd.get_dummies(ford.model)\n",
    "ford = pd.concat([ford,dummies], axis=1)\n",
    "ford.head()"
   ]
  },
  {
   "cell_type": "code",
   "execution_count": 26,
   "metadata": {
    "colab": {
     "base_uri": "https://localhost:8080/",
     "height": 236
    },
    "id": "eROeriEfS1e6",
    "outputId": "f8657792-fe85-40b9-ceed-1130ba3d9d90"
   },
   "outputs": [
    {
     "data": {
      "text/html": [
       "<div>\n",
       "<style scoped>\n",
       "    .dataframe tbody tr th:only-of-type {\n",
       "        vertical-align: middle;\n",
       "    }\n",
       "\n",
       "    .dataframe tbody tr th {\n",
       "        vertical-align: top;\n",
       "    }\n",
       "\n",
       "    .dataframe thead th {\n",
       "        text-align: right;\n",
       "    }\n",
       "</style>\n",
       "<table border=\"1\" class=\"dataframe\">\n",
       "  <thead>\n",
       "    <tr style=\"text-align: right;\">\n",
       "      <th></th>\n",
       "      <th>model</th>\n",
       "      <th>year</th>\n",
       "      <th>price</th>\n",
       "      <th>transmission</th>\n",
       "      <th>mileage</th>\n",
       "      <th>fuelType</th>\n",
       "      <th>tax</th>\n",
       "      <th>mpg</th>\n",
       "      <th>engineSize</th>\n",
       "      <th>B-MAX</th>\n",
       "      <th>...</th>\n",
       "      <th>Mondeo</th>\n",
       "      <th>Mustang</th>\n",
       "      <th>Puma</th>\n",
       "      <th>Ranger</th>\n",
       "      <th>S-MAX</th>\n",
       "      <th>Streetka</th>\n",
       "      <th>Tourneo Connect</th>\n",
       "      <th>Tourneo Custom</th>\n",
       "      <th>Transit Tourneo</th>\n",
       "      <th>Focus</th>\n",
       "    </tr>\n",
       "  </thead>\n",
       "  <tbody>\n",
       "    <tr>\n",
       "      <th>0</th>\n",
       "      <td>Fiesta</td>\n",
       "      <td>0.328125</td>\n",
       "      <td>0.211101</td>\n",
       "      <td>Automatic</td>\n",
       "      <td>0.089747</td>\n",
       "      <td>Petrol</td>\n",
       "      <td>0.258621</td>\n",
       "      <td>0.203867</td>\n",
       "      <td>0.2</td>\n",
       "      <td>0</td>\n",
       "      <td>...</td>\n",
       "      <td>0</td>\n",
       "      <td>0</td>\n",
       "      <td>0</td>\n",
       "      <td>0</td>\n",
       "      <td>0</td>\n",
       "      <td>0</td>\n",
       "      <td>0</td>\n",
       "      <td>0</td>\n",
       "      <td>0</td>\n",
       "      <td>0</td>\n",
       "    </tr>\n",
       "    <tr>\n",
       "      <th>1</th>\n",
       "      <td>Focus</td>\n",
       "      <td>0.343750</td>\n",
       "      <td>0.247798</td>\n",
       "      <td>Manual</td>\n",
       "      <td>0.051125</td>\n",
       "      <td>Petrol</td>\n",
       "      <td>0.258621</td>\n",
       "      <td>0.203867</td>\n",
       "      <td>0.2</td>\n",
       "      <td>0</td>\n",
       "      <td>...</td>\n",
       "      <td>0</td>\n",
       "      <td>0</td>\n",
       "      <td>0</td>\n",
       "      <td>0</td>\n",
       "      <td>0</td>\n",
       "      <td>0</td>\n",
       "      <td>0</td>\n",
       "      <td>0</td>\n",
       "      <td>0</td>\n",
       "      <td>0</td>\n",
       "    </tr>\n",
       "    <tr>\n",
       "      <th>2</th>\n",
       "      <td>Focus</td>\n",
       "      <td>0.328125</td>\n",
       "      <td>0.229450</td>\n",
       "      <td>Manual</td>\n",
       "      <td>0.070113</td>\n",
       "      <td>Petrol</td>\n",
       "      <td>0.258621</td>\n",
       "      <td>0.203867</td>\n",
       "      <td>0.2</td>\n",
       "      <td>0</td>\n",
       "      <td>...</td>\n",
       "      <td>0</td>\n",
       "      <td>0</td>\n",
       "      <td>0</td>\n",
       "      <td>0</td>\n",
       "      <td>0</td>\n",
       "      <td>0</td>\n",
       "      <td>0</td>\n",
       "      <td>0</td>\n",
       "      <td>0</td>\n",
       "      <td>0</td>\n",
       "    </tr>\n",
       "    <tr>\n",
       "      <th>3</th>\n",
       "      <td>Fiesta</td>\n",
       "      <td>0.359375</td>\n",
       "      <td>0.312018</td>\n",
       "      <td>Manual</td>\n",
       "      <td>0.058877</td>\n",
       "      <td>Petrol</td>\n",
       "      <td>0.250000</td>\n",
       "      <td>0.107735</td>\n",
       "      <td>0.3</td>\n",
       "      <td>0</td>\n",
       "      <td>...</td>\n",
       "      <td>0</td>\n",
       "      <td>0</td>\n",
       "      <td>0</td>\n",
       "      <td>0</td>\n",
       "      <td>0</td>\n",
       "      <td>0</td>\n",
       "      <td>0</td>\n",
       "      <td>0</td>\n",
       "      <td>0</td>\n",
       "      <td>0</td>\n",
       "    </tr>\n",
       "    <tr>\n",
       "      <th>4</th>\n",
       "      <td>Fiesta</td>\n",
       "      <td>0.359375</td>\n",
       "      <td>0.293670</td>\n",
       "      <td>Automatic</td>\n",
       "      <td>0.008337</td>\n",
       "      <td>Petrol</td>\n",
       "      <td>0.250000</td>\n",
       "      <td>0.154144</td>\n",
       "      <td>0.2</td>\n",
       "      <td>0</td>\n",
       "      <td>...</td>\n",
       "      <td>0</td>\n",
       "      <td>0</td>\n",
       "      <td>0</td>\n",
       "      <td>0</td>\n",
       "      <td>0</td>\n",
       "      <td>0</td>\n",
       "      <td>0</td>\n",
       "      <td>0</td>\n",
       "      <td>0</td>\n",
       "      <td>0</td>\n",
       "    </tr>\n",
       "  </tbody>\n",
       "</table>\n",
       "<p>5 rows × 33 columns</p>\n",
       "</div>"
      ],
      "text/plain": [
       "     model      year     price transmission   mileage fuelType       tax  \\\n",
       "0   Fiesta  0.328125  0.211101    Automatic  0.089747   Petrol  0.258621   \n",
       "1    Focus  0.343750  0.247798       Manual  0.051125   Petrol  0.258621   \n",
       "2    Focus  0.328125  0.229450       Manual  0.070113   Petrol  0.258621   \n",
       "3   Fiesta  0.359375  0.312018       Manual  0.058877   Petrol  0.250000   \n",
       "4   Fiesta  0.359375  0.293670    Automatic  0.008337   Petrol  0.250000   \n",
       "\n",
       "        mpg  engineSize   B-MAX  ...   Mondeo   Mustang   Puma   Ranger  \\\n",
       "0  0.203867         0.2       0  ...        0         0      0        0   \n",
       "1  0.203867         0.2       0  ...        0         0      0        0   \n",
       "2  0.203867         0.2       0  ...        0         0      0        0   \n",
       "3  0.107735         0.3       0  ...        0         0      0        0   \n",
       "4  0.154144         0.2       0  ...        0         0      0        0   \n",
       "\n",
       "    S-MAX   Streetka   Tourneo Connect   Tourneo Custom   Transit Tourneo  \\\n",
       "0       0          0                 0                0                 0   \n",
       "1       0          0                 0                0                 0   \n",
       "2       0          0                 0                0                 0   \n",
       "3       0          0                 0                0                 0   \n",
       "4       0          0                 0                0                 0   \n",
       "\n",
       "   Focus  \n",
       "0      0  \n",
       "1      0  \n",
       "2      0  \n",
       "3      0  \n",
       "4      0  \n",
       "\n",
       "[5 rows x 33 columns]"
      ]
     },
     "execution_count": 26,
     "metadata": {},
     "output_type": "execute_result"
    }
   ],
   "source": [
    "# Normalizando os dados numéricos de forma que variem entre 0 e 1 com o objetivo de melhorar a precisão do modelo\n",
    "from sklearn.preprocessing import MinMaxScaler\n",
    "converter = MinMaxScaler()\n",
    "colunasConvertidas = ['year','price','mileage','tax','mpg','engineSize']\n",
    "ford[colunasConvertidas] = converter.fit_transform(ford[colunasConvertidas])\n",
    "ford.head()"
   ]
  },
  {
   "cell_type": "code",
   "execution_count": 27,
   "metadata": {
    "id": "tl4FYqdo4YlV"
   },
   "outputs": [],
   "source": [
    "preco = ford['price']"
   ]
  },
  {
   "cell_type": "code",
   "execution_count": 28,
   "metadata": {
    "colab": {
     "base_uri": "https://localhost:8080/",
     "height": 236
    },
    "id": "naCPAhUP0PyS",
    "outputId": "ac29836e-e9df-462c-bc9d-cd95a9fa37de"
   },
   "outputs": [
    {
     "data": {
      "text/html": [
       "<div>\n",
       "<style scoped>\n",
       "    .dataframe tbody tr th:only-of-type {\n",
       "        vertical-align: middle;\n",
       "    }\n",
       "\n",
       "    .dataframe tbody tr th {\n",
       "        vertical-align: top;\n",
       "    }\n",
       "\n",
       "    .dataframe thead th {\n",
       "        text-align: right;\n",
       "    }\n",
       "</style>\n",
       "<table border=\"1\" class=\"dataframe\">\n",
       "  <thead>\n",
       "    <tr style=\"text-align: right;\">\n",
       "      <th></th>\n",
       "      <th>year</th>\n",
       "      <th>mileage</th>\n",
       "      <th>tax</th>\n",
       "      <th>mpg</th>\n",
       "      <th>engineSize</th>\n",
       "      <th>B-MAX</th>\n",
       "      <th>C-MAX</th>\n",
       "      <th>EcoSport</th>\n",
       "      <th>Edge</th>\n",
       "      <th>Escort</th>\n",
       "      <th>...</th>\n",
       "      <th>Mondeo</th>\n",
       "      <th>Mustang</th>\n",
       "      <th>Puma</th>\n",
       "      <th>Ranger</th>\n",
       "      <th>S-MAX</th>\n",
       "      <th>Streetka</th>\n",
       "      <th>Tourneo Connect</th>\n",
       "      <th>Tourneo Custom</th>\n",
       "      <th>Transit Tourneo</th>\n",
       "      <th>Focus</th>\n",
       "    </tr>\n",
       "  </thead>\n",
       "  <tbody>\n",
       "    <tr>\n",
       "      <th>0</th>\n",
       "      <td>0.328125</td>\n",
       "      <td>0.089747</td>\n",
       "      <td>0.258621</td>\n",
       "      <td>0.203867</td>\n",
       "      <td>0.2</td>\n",
       "      <td>0</td>\n",
       "      <td>0</td>\n",
       "      <td>0</td>\n",
       "      <td>0</td>\n",
       "      <td>0</td>\n",
       "      <td>...</td>\n",
       "      <td>0</td>\n",
       "      <td>0</td>\n",
       "      <td>0</td>\n",
       "      <td>0</td>\n",
       "      <td>0</td>\n",
       "      <td>0</td>\n",
       "      <td>0</td>\n",
       "      <td>0</td>\n",
       "      <td>0</td>\n",
       "      <td>0</td>\n",
       "    </tr>\n",
       "    <tr>\n",
       "      <th>1</th>\n",
       "      <td>0.343750</td>\n",
       "      <td>0.051125</td>\n",
       "      <td>0.258621</td>\n",
       "      <td>0.203867</td>\n",
       "      <td>0.2</td>\n",
       "      <td>0</td>\n",
       "      <td>0</td>\n",
       "      <td>0</td>\n",
       "      <td>0</td>\n",
       "      <td>0</td>\n",
       "      <td>...</td>\n",
       "      <td>0</td>\n",
       "      <td>0</td>\n",
       "      <td>0</td>\n",
       "      <td>0</td>\n",
       "      <td>0</td>\n",
       "      <td>0</td>\n",
       "      <td>0</td>\n",
       "      <td>0</td>\n",
       "      <td>0</td>\n",
       "      <td>0</td>\n",
       "    </tr>\n",
       "    <tr>\n",
       "      <th>2</th>\n",
       "      <td>0.328125</td>\n",
       "      <td>0.070113</td>\n",
       "      <td>0.258621</td>\n",
       "      <td>0.203867</td>\n",
       "      <td>0.2</td>\n",
       "      <td>0</td>\n",
       "      <td>0</td>\n",
       "      <td>0</td>\n",
       "      <td>0</td>\n",
       "      <td>0</td>\n",
       "      <td>...</td>\n",
       "      <td>0</td>\n",
       "      <td>0</td>\n",
       "      <td>0</td>\n",
       "      <td>0</td>\n",
       "      <td>0</td>\n",
       "      <td>0</td>\n",
       "      <td>0</td>\n",
       "      <td>0</td>\n",
       "      <td>0</td>\n",
       "      <td>0</td>\n",
       "    </tr>\n",
       "    <tr>\n",
       "      <th>3</th>\n",
       "      <td>0.359375</td>\n",
       "      <td>0.058877</td>\n",
       "      <td>0.250000</td>\n",
       "      <td>0.107735</td>\n",
       "      <td>0.3</td>\n",
       "      <td>0</td>\n",
       "      <td>0</td>\n",
       "      <td>0</td>\n",
       "      <td>0</td>\n",
       "      <td>0</td>\n",
       "      <td>...</td>\n",
       "      <td>0</td>\n",
       "      <td>0</td>\n",
       "      <td>0</td>\n",
       "      <td>0</td>\n",
       "      <td>0</td>\n",
       "      <td>0</td>\n",
       "      <td>0</td>\n",
       "      <td>0</td>\n",
       "      <td>0</td>\n",
       "      <td>0</td>\n",
       "    </tr>\n",
       "    <tr>\n",
       "      <th>4</th>\n",
       "      <td>0.359375</td>\n",
       "      <td>0.008337</td>\n",
       "      <td>0.250000</td>\n",
       "      <td>0.154144</td>\n",
       "      <td>0.2</td>\n",
       "      <td>0</td>\n",
       "      <td>0</td>\n",
       "      <td>0</td>\n",
       "      <td>0</td>\n",
       "      <td>0</td>\n",
       "      <td>...</td>\n",
       "      <td>0</td>\n",
       "      <td>0</td>\n",
       "      <td>0</td>\n",
       "      <td>0</td>\n",
       "      <td>0</td>\n",
       "      <td>0</td>\n",
       "      <td>0</td>\n",
       "      <td>0</td>\n",
       "      <td>0</td>\n",
       "      <td>0</td>\n",
       "    </tr>\n",
       "  </tbody>\n",
       "</table>\n",
       "<p>5 rows × 29 columns</p>\n",
       "</div>"
      ],
      "text/plain": [
       "       year   mileage       tax       mpg  engineSize   B-MAX   C-MAX  \\\n",
       "0  0.328125  0.089747  0.258621  0.203867         0.2       0       0   \n",
       "1  0.343750  0.051125  0.258621  0.203867         0.2       0       0   \n",
       "2  0.328125  0.070113  0.258621  0.203867         0.2       0       0   \n",
       "3  0.359375  0.058877  0.250000  0.107735         0.3       0       0   \n",
       "4  0.359375  0.008337  0.250000  0.154144         0.2       0       0   \n",
       "\n",
       "    EcoSport   Edge   Escort  ...   Mondeo   Mustang   Puma   Ranger   S-MAX  \\\n",
       "0          0      0        0  ...        0         0      0        0       0   \n",
       "1          0      0        0  ...        0         0      0        0       0   \n",
       "2          0      0        0  ...        0         0      0        0       0   \n",
       "3          0      0        0  ...        0         0      0        0       0   \n",
       "4          0      0        0  ...        0         0      0        0       0   \n",
       "\n",
       "    Streetka   Tourneo Connect   Tourneo Custom   Transit Tourneo  Focus  \n",
       "0          0                 0                0                 0      0  \n",
       "1          0                 0                0                 0      0  \n",
       "2          0                 0                0                 0      0  \n",
       "3          0                 0                0                 0      0  \n",
       "4          0                 0                0                 0      0  \n",
       "\n",
       "[5 rows x 29 columns]"
      ]
     },
     "execution_count": 28,
     "metadata": {},
     "output_type": "execute_result"
    }
   ],
   "source": [
    "# Excluindo as colunas antigas deixando apenas os dados numéricos \n",
    "ford = ford.drop(['model','transmission','fuelType', 'price'], axis=1)\n",
    "ford.head()\n"
   ]
  },
  {
   "cell_type": "markdown",
   "metadata": {},
   "source": [
    "# Machine Learning — Biblioteca scikit-learn"
   ]
  },
  {
   "cell_type": "code",
   "execution_count": 29,
   "metadata": {
    "id": "YtXuVMhdTjPV"
   },
   "outputs": [],
   "source": [
    "from sklearn.linear_model import LinearRegression # Importação da biblioteca sklearn\n",
    "from sklearn.model_selection import train_test_split # Módulo que separa os dados em conjuntos de treino e teste\n",
    "from sklearn.metrics import mean_squared_error, mean_absolute_error # Métricas de precisão que serão utilizadas"
   ]
  },
  {
   "cell_type": "code",
   "execution_count": 30,
   "metadata": {
    "id": "lLzepqDMNspG"
   },
   "outputs": [],
   "source": [
    "# Divisão dos dados de treino e teste, sendo 75% treino e 25% teste\n",
    "X = ford\n",
    "y = preco\n",
    "X_train, X_test, y_train, y_test = train_test_split(X, y, test_size=0.25, random_state=123)"
   ]
  },
  {
   "cell_type": "code",
   "execution_count": 31,
   "metadata": {
    "colab": {
     "base_uri": "https://localhost:8080/"
    },
    "id": "QbBimI-jY2wD",
    "outputId": "6b887f2a-8cb4-4605-b2ac-354922a4a13a"
   },
   "outputs": [
    {
     "name": "stdout",
     "output_type": "stream",
     "text": [
      "Tamanho de X_train: (13474, 29)\n",
      "Tamanho de X_test: (4492, 29)\n",
      "Tamanho de y_train: (13474,)\n",
      "Tamanho de y_test: (4492,)\n"
     ]
    }
   ],
   "source": [
    "print(f\"Tamanho de X_train: {X_train.shape}\")\n",
    "print(f\"Tamanho de X_test: {X_test.shape}\")\n",
    "print(f\"Tamanho de y_train: {y_train.shape}\")\n",
    "print(f\"Tamanho de y_test: {y_test.shape}\")"
   ]
  },
  {
   "cell_type": "markdown",
   "metadata": {},
   "source": [
    "# Regressão linear"
   ]
  },
  {
   "cell_type": "code",
   "execution_count": 32,
   "metadata": {
    "colab": {
     "base_uri": "https://localhost:8080/"
    },
    "id": "VuAOrtaDQQ95",
    "outputId": "65af0994-bece-4257-934b-08ae347d772e"
   },
   "outputs": [
    {
     "name": "stdout",
     "output_type": "stream",
     "text": [
      "MSE de Teste: 0.00131\n",
      "MAE de Teste: 0.02560\n",
      "Score       : 0.83899\n"
     ]
    }
   ],
   "source": [
    "modelo = LinearRegression()\n",
    "modelo.fit(X_train, y_train) \n",
    "y_pred = modelo.predict(X_test)\n",
    "\n",
    "print(f\"MSE de Teste: {mean_squared_error(y_test, y_pred):1.5f}\")\n",
    "print(f\"MAE de Teste: {mean_absolute_error(y_test, y_pred):1.5f}\")\n",
    "print(f\"Score       : {modelo.score(X, y):1.5f}\")\n",
    "\n"
   ]
  }
 ],
 "metadata": {
  "colab": {
   "collapsed_sections": [],
   "name": "Ford.ipynb",
   "provenance": []
  },
  "kernelspec": {
   "display_name": "Python 3 (ipykernel)",
   "language": "python",
   "name": "python3"
  },
  "language_info": {
   "codemirror_mode": {
    "name": "ipython",
    "version": 3
   },
   "file_extension": ".py",
   "mimetype": "text/x-python",
   "name": "python",
   "nbconvert_exporter": "python",
   "pygments_lexer": "ipython3",
   "version": "3.9.7"
  }
 },
 "nbformat": 4,
 "nbformat_minor": 1
}
